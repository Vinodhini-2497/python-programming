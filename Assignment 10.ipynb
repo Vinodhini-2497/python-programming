{
 "cells": [
  {
   "cell_type": "markdown",
   "id": "0c7e801c",
   "metadata": {},
   "source": [
    "1. Write a Python program to find sum of elements in list?"
   ]
  },
  {
   "cell_type": "code",
   "execution_count": 1,
   "id": "e2d7cf28",
   "metadata": {},
   "outputs": [
    {
     "name": "stdout",
     "output_type": "stream",
     "text": [
      "21\n"
     ]
    }
   ],
   "source": [
    "l = [1,2,3,4,5,6]\n",
    "sum=0\n",
    "for i in l:\n",
    "    sum=sum+i\n",
    "print(sum)"
   ]
  },
  {
   "cell_type": "markdown",
   "id": "11b82d08",
   "metadata": {},
   "source": [
    "2. Write a Python program to Multiply all numbers in the list?"
   ]
  },
  {
   "cell_type": "code",
   "execution_count": 2,
   "id": "2e2d7288",
   "metadata": {},
   "outputs": [
    {
     "name": "stdout",
     "output_type": "stream",
     "text": [
      "720\n"
     ]
    }
   ],
   "source": [
    "m = 1\n",
    "for i in l:\n",
    "    m = m*i\n",
    "print(m)"
   ]
  },
  {
   "cell_type": "markdown",
   "id": "e54f6e67",
   "metadata": {},
   "source": [
    "3. Write a Python program to find smallest number in a list?"
   ]
  },
  {
   "cell_type": "code",
   "execution_count": 3,
   "id": "cfd7b796",
   "metadata": {},
   "outputs": [
    {
     "name": "stdout",
     "output_type": "stream",
     "text": [
      "2\n"
     ]
    }
   ],
   "source": [
    "L = [10,464,123,2,5,4,45,48486,5451]\n",
    "L.sort()\n",
    "print(L[0])"
   ]
  },
  {
   "cell_type": "markdown",
   "id": "58f43f57",
   "metadata": {},
   "source": [
    "4. Write a Python program to find largest number in a list?"
   ]
  },
  {
   "cell_type": "code",
   "execution_count": 4,
   "id": "a5e46b76",
   "metadata": {},
   "outputs": [
    {
     "name": "stdout",
     "output_type": "stream",
     "text": [
      "48486\n"
     ]
    }
   ],
   "source": [
    "L.sort()\n",
    "print(L[-1])"
   ]
  },
  {
   "cell_type": "markdown",
   "id": "8937bf37",
   "metadata": {},
   "source": [
    "5. Write a Python program to find second largest number in a list?"
   ]
  },
  {
   "cell_type": "code",
   "execution_count": 5,
   "id": "f3e98f10",
   "metadata": {},
   "outputs": [
    {
     "name": "stdout",
     "output_type": "stream",
     "text": [
      "4\n"
     ]
    }
   ],
   "source": [
    "L.sort()\n",
    "print(L[1])"
   ]
  },
  {
   "cell_type": "markdown",
   "id": "7503d489",
   "metadata": {},
   "source": [
    "6. Write a Python program to find N largest elements from a list?"
   ]
  },
  {
   "cell_type": "code",
   "execution_count": 6,
   "id": "fb1eb6b3",
   "metadata": {},
   "outputs": [
    {
     "name": "stdout",
     "output_type": "stream",
     "text": [
      "3th largest number is 464\n"
     ]
    }
   ],
   "source": [
    "def nthlargest(n):\n",
    "    L.sort()\n",
    "    print(\"{}th largest number is {}\".format(n, L[-n]))\n",
    "nthlargest(3)"
   ]
  },
  {
   "cell_type": "markdown",
   "id": "f4dc9afe",
   "metadata": {},
   "source": [
    "7. Write a Python program to print even numbers in a list?"
   ]
  },
  {
   "cell_type": "code",
   "execution_count": 7,
   "id": "f51180b0",
   "metadata": {},
   "outputs": [
    {
     "name": "stdout",
     "output_type": "stream",
     "text": [
      "[2, 4, 10, 464, 48486]\n"
     ]
    }
   ],
   "source": [
    "even = []\n",
    "for i in L:\n",
    "    if i%2==0:\n",
    "        even.append(i)\n",
    "print(even)"
   ]
  },
  {
   "cell_type": "markdown",
   "id": "df437de6",
   "metadata": {},
   "source": [
    "8. Write a Python program to print odd numbers in a List?"
   ]
  },
  {
   "cell_type": "code",
   "execution_count": 8,
   "id": "67426ed1",
   "metadata": {},
   "outputs": [
    {
     "name": "stdout",
     "output_type": "stream",
     "text": [
      "[5, 45, 123, 5451]\n"
     ]
    }
   ],
   "source": [
    "odd = []\n",
    "for i in L:\n",
    "    if i%2!=0:\n",
    "        odd.append(i)\n",
    "print(odd)"
   ]
  },
  {
   "cell_type": "markdown",
   "id": "849b2f0f",
   "metadata": {},
   "source": [
    "9. Write a Python program to Remove empty List from List?"
   ]
  },
  {
   "cell_type": "code",
   "execution_count": 9,
   "id": "39acf91e",
   "metadata": {},
   "outputs": [
    {
     "name": "stdout",
     "output_type": "stream",
     "text": [
      "[123, 2, 3, [1, 2, 3]]\n"
     ]
    }
   ],
   "source": [
    "l = [[],123,2,3,[1,2,3],[]]\n",
    "for i in l:\n",
    "    if i==[]:\n",
    "        l.remove(i)\n",
    "print(l)"
   ]
  },
  {
   "cell_type": "markdown",
   "id": "abd825ce",
   "metadata": {},
   "source": [
    "10. Write a Python program to Cloning or Copying a list?"
   ]
  },
  {
   "cell_type": "code",
   "execution_count": 10,
   "id": "934e177c",
   "metadata": {},
   "outputs": [
    {
     "name": "stdout",
     "output_type": "stream",
     "text": [
      "original list : [123, 2, 3, [1, 2, 3]]\n",
      "Cloned List: [123, 2, 3, [1, 2, 3]]\n"
     ]
    }
   ],
   "source": [
    "def cloning(l):\n",
    "    copy = []\n",
    "    for i in l:\n",
    "        copy.append(i)\n",
    "    print(\"original list : {}\\nCloned List: {}\".format(l,copy))\n",
    "cloning(l)"
   ]
  },
  {
   "cell_type": "markdown",
   "id": "6a9b82a6",
   "metadata": {},
   "source": [
    "11. Write a Python program to Count occurrences of an element in a list?"
   ]
  },
  {
   "cell_type": "code",
   "execution_count": 11,
   "id": "c498489f",
   "metadata": {},
   "outputs": [
    {
     "name": "stdout",
     "output_type": "stream",
     "text": [
      "10 has occured 3 times\n"
     ]
    }
   ],
   "source": [
    "l = [10,20,30,10,20,30,10]\n",
    "element = 10\n",
    "count = 0\n",
    "for i in l:\n",
    "    if element == i:\n",
    "        count+=1\n",
    "print(\"{} has occured {} times\".format(element,count))"
   ]
  },
  {
   "cell_type": "code",
   "execution_count": null,
   "id": "2064fe5c",
   "metadata": {},
   "outputs": [],
   "source": []
  }
 ],
 "metadata": {
  "kernelspec": {
   "display_name": "Python 3",
   "language": "python",
   "name": "python3"
  },
  "language_info": {
   "codemirror_mode": {
    "name": "ipython",
    "version": 3
   },
   "file_extension": ".py",
   "mimetype": "text/x-python",
   "name": "python",
   "nbconvert_exporter": "python",
   "pygments_lexer": "ipython3",
   "version": "3.8.8"
  }
 },
 "nbformat": 4,
 "nbformat_minor": 5
}
