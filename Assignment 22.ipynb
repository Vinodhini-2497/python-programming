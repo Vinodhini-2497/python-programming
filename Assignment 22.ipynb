{
 "cells": [
  {
   "cell_type": "markdown",
   "id": "35b401a0",
   "metadata": {},
   "source": [
    "Create a function that takes three parameters where:\n",
    " x is the start of the range (inclusive).\n",
    " y is the end of the range (inclusive).\n",
    " n is the divisor to be checked against.\n",
    "Return an ordered list with numbers in the range that are divisible by the third parameter n.\n",
    "Return an empty list if there are no numbers that are divisible by n.\n",
    "Examples\n",
    "list_operation(1, 10, 3) ➞ [3, 6, 9]\n",
    "list_operation(7, 9, 2) ➞ [8]\n",
    "list_operation(15, 20, 7) ➞ []"
   ]
  },
  {
   "cell_type": "code",
   "execution_count": 1,
   "id": "a072b3c0",
   "metadata": {},
   "outputs": [],
   "source": [
    "def list_operation(x,y,n):\n",
    "    l = []\n",
    "    for i in range(x,y+1):\n",
    "        if i%n==0:\n",
    "            l.append(i)\n",
    "    return l\n",
    "           "
   ]
  },
  {
   "cell_type": "code",
   "execution_count": 2,
   "id": "ae34e676",
   "metadata": {},
   "outputs": [
    {
     "data": {
      "text/plain": [
       "[3, 6, 9]"
      ]
     },
     "execution_count": 2,
     "metadata": {},
     "output_type": "execute_result"
    }
   ],
   "source": [
    "list_operation(1, 10, 3)"
   ]
  },
  {
   "cell_type": "code",
   "execution_count": 3,
   "id": "781f93e6",
   "metadata": {},
   "outputs": [
    {
     "data": {
      "text/plain": [
       "[8]"
      ]
     },
     "execution_count": 3,
     "metadata": {},
     "output_type": "execute_result"
    }
   ],
   "source": [
    "list_operation(7, 9, 2)"
   ]
  },
  {
   "cell_type": "code",
   "execution_count": 4,
   "id": "f8bf32ef",
   "metadata": {},
   "outputs": [
    {
     "data": {
      "text/plain": [
       "[]"
      ]
     },
     "execution_count": 4,
     "metadata": {},
     "output_type": "execute_result"
    }
   ],
   "source": [
    "list_operation(15, 20, 7)"
   ]
  },
  {
   "cell_type": "markdown",
   "id": "a9616b4a",
   "metadata": {},
   "source": [
    "Create a function that takes in two lists and returns True if the second list follows the first list\n",
    "by one element, and False otherwise. In other words, determine if the second list is the first\n",
    "list shifted to the right by 1.\n",
    "Examples\n",
    "simon_says([1, 2], [5, 1]) ➞ True\n",
    "simon_says([1, 2], [5, 5]) ➞ False\n",
    "simon_says([1, 2, 3, 4, 5], [0, 1, 2, 3, 4]) ➞ True\n",
    "simon_says([1, 2, 3, 4, 5], [5, 5, 1, 2, 3]) ➞ False\n",
    "Notes\n",
    " Both input lists will be of the same length, and will have a minimum length of 2.\n",
    " The values of the 0-indexed element in the second list and the n-1th indexed element\n",
    "in the first list do not matter."
   ]
  },
  {
   "cell_type": "code",
   "execution_count": 5,
   "id": "95e1a478",
   "metadata": {},
   "outputs": [],
   "source": [
    "def simon_says(l1,l2):\n",
    "    return l1[0:len(l1)-1]==l2[1:len(l2)]"
   ]
  },
  {
   "cell_type": "code",
   "execution_count": 6,
   "id": "da9a0e32",
   "metadata": {},
   "outputs": [
    {
     "data": {
      "text/plain": [
       "True"
      ]
     },
     "execution_count": 6,
     "metadata": {},
     "output_type": "execute_result"
    }
   ],
   "source": [
    "simon_says([1, 2], [5, 1]) "
   ]
  },
  {
   "cell_type": "code",
   "execution_count": 7,
   "id": "d8c292dc",
   "metadata": {},
   "outputs": [
    {
     "data": {
      "text/plain": [
       "False"
      ]
     },
     "execution_count": 7,
     "metadata": {},
     "output_type": "execute_result"
    }
   ],
   "source": [
    "simon_says([1, 2], [5, 5])"
   ]
  },
  {
   "cell_type": "code",
   "execution_count": 8,
   "id": "c31c9c5a",
   "metadata": {},
   "outputs": [
    {
     "data": {
      "text/plain": [
       "True"
      ]
     },
     "execution_count": 8,
     "metadata": {},
     "output_type": "execute_result"
    }
   ],
   "source": [
    "simon_says([1, 2, 3, 4, 5], [0, 1, 2, 3, 4]) "
   ]
  },
  {
   "cell_type": "code",
   "execution_count": 9,
   "id": "ba2264cf",
   "metadata": {},
   "outputs": [
    {
     "data": {
      "text/plain": [
       "False"
      ]
     },
     "execution_count": 9,
     "metadata": {},
     "output_type": "execute_result"
    }
   ],
   "source": [
    "simon_says([1, 2, 3, 4, 5], [5, 5, 1, 2, 3])"
   ]
  },
  {
   "cell_type": "markdown",
   "id": "6999565a",
   "metadata": {},
   "source": [
    "A group of friends have decided to start a secret society. The name will be the first letter of\n",
    "each of their names, sorted in alphabetical order.\n",
    "Create a function that takes in a list of names and returns the name of the secret society.\n",
    "Examples\n",
    "society_name([\"Adam\", \"Sarah\", \"Malcolm\"]) ➞ \"AMS\"\n",
    "society_name([\"Harry\", \"Newt\", \"Luna\", \"Cho\"]) ➞ \"CHLN\"\n",
    "society_name([\"Phoebe\", \"Chandler\", \"Rachel\", \"Ross\", \"Monica\", \"Joey\"])"
   ]
  },
  {
   "cell_type": "code",
   "execution_count": 10,
   "id": "70dc9f6a",
   "metadata": {},
   "outputs": [],
   "source": [
    "def society_name(l):\n",
    "    l1 = []\n",
    "    for i in l:\n",
    "        l1.append(i[0])\n",
    "    l1 = sorted(l1)\n",
    "    return ''.join(l1)"
   ]
  },
  {
   "cell_type": "code",
   "execution_count": 11,
   "id": "e8918ad3",
   "metadata": {},
   "outputs": [
    {
     "data": {
      "text/plain": [
       "'AMS'"
      ]
     },
     "execution_count": 11,
     "metadata": {},
     "output_type": "execute_result"
    }
   ],
   "source": [
    "society_name([\"Adam\", \"Sarah\", \"Malcolm\"])"
   ]
  },
  {
   "cell_type": "code",
   "execution_count": 12,
   "id": "3dcd54ac",
   "metadata": {},
   "outputs": [
    {
     "data": {
      "text/plain": [
       "'CHLN'"
      ]
     },
     "execution_count": 12,
     "metadata": {},
     "output_type": "execute_result"
    }
   ],
   "source": [
    "society_name([\"Harry\", \"Newt\", \"Luna\", \"Cho\"])"
   ]
  },
  {
   "cell_type": "code",
   "execution_count": 13,
   "id": "428272e6",
   "metadata": {},
   "outputs": [
    {
     "data": {
      "text/plain": [
       "'CJMPRR'"
      ]
     },
     "execution_count": 13,
     "metadata": {},
     "output_type": "execute_result"
    }
   ],
   "source": [
    "society_name([\"Phoebe\", \"Chandler\", \"Rachel\", \"Ross\", \"Monica\", \"Joey\"])"
   ]
  },
  {
   "cell_type": "markdown",
   "id": "1613be0a",
   "metadata": {},
   "source": [
    "An isogram is a word that has no duplicate letters. Create a function that takes a string and\n",
    "returns either True or False depending on whether or not it's an \"isogram\".\n",
    "Examples\n",
    "is_isogram(\"Algorism\") ➞ True\n",
    "is_isogram(\"PasSword\") ➞ False\n",
    "# Not case sensitive.\n",
    "is_isogram(\"Consecutive\") ➞ False\n",
    "Notes\n",
    " Ignore letter case (should not be case sensitive).\n",
    " All test cases contain valid one word strings."
   ]
  },
  {
   "cell_type": "code",
   "execution_count": 14,
   "id": "d51a2f71",
   "metadata": {},
   "outputs": [],
   "source": [
    "def is_isogram(string):\n",
    "    for i in range(len(string)):\n",
    "        if string.lower().count(string[i]) > 1:\n",
    "            return False\n",
    "    else:\n",
    "        return True"
   ]
  },
  {
   "cell_type": "code",
   "execution_count": 15,
   "id": "827987df",
   "metadata": {},
   "outputs": [
    {
     "data": {
      "text/plain": [
       "True"
      ]
     },
     "execution_count": 15,
     "metadata": {},
     "output_type": "execute_result"
    }
   ],
   "source": [
    "is_isogram(\"Algorism\")"
   ]
  },
  {
   "cell_type": "code",
   "execution_count": 16,
   "id": "a7863c4e",
   "metadata": {},
   "outputs": [
    {
     "data": {
      "text/plain": [
       "False"
      ]
     },
     "execution_count": 16,
     "metadata": {},
     "output_type": "execute_result"
    }
   ],
   "source": [
    "is_isogram(\"PasSword\")"
   ]
  },
  {
   "cell_type": "code",
   "execution_count": 17,
   "id": "4b39d93e",
   "metadata": {},
   "outputs": [
    {
     "data": {
      "text/plain": [
       "False"
      ]
     },
     "execution_count": 17,
     "metadata": {},
     "output_type": "execute_result"
    }
   ],
   "source": [
    "is_isogram(\"Consecutive\")"
   ]
  },
  {
   "cell_type": "markdown",
   "id": "a796c122",
   "metadata": {},
   "source": [
    "Create a function that takes a string and returns True or False, depending on whether the\n",
    "characters are in order or not.\n",
    "Examples\n",
    "is_in_order(\"abc\") ➞ True\n",
    "is_in_order(\"edabit\") ➞ False\n",
    "is_in_order(\"123\") ➞ True\n",
    "is_in_order(\"xyzz\") ➞ True\n",
    "Notes\n",
    "You don't have to handle empty strings."
   ]
  },
  {
   "cell_type": "code",
   "execution_count": 18,
   "id": "cb9b49be",
   "metadata": {},
   "outputs": [],
   "source": [
    "def is_in_order(string):\n",
    "    string1 = sorted(string)\n",
    "    string1 = ''.join(string1)\n",
    "    if string1==string:\n",
    "        return True\n",
    "    else:\n",
    "        return False"
   ]
  },
  {
   "cell_type": "code",
   "execution_count": 19,
   "id": "a63d2450",
   "metadata": {},
   "outputs": [
    {
     "data": {
      "text/plain": [
       "True"
      ]
     },
     "execution_count": 19,
     "metadata": {},
     "output_type": "execute_result"
    }
   ],
   "source": [
    "is_in_order(\"abc\")"
   ]
  },
  {
   "cell_type": "code",
   "execution_count": 20,
   "id": "4f35e0f5",
   "metadata": {},
   "outputs": [
    {
     "data": {
      "text/plain": [
       "False"
      ]
     },
     "execution_count": 20,
     "metadata": {},
     "output_type": "execute_result"
    }
   ],
   "source": [
    "is_in_order(\"edabit\")"
   ]
  },
  {
   "cell_type": "code",
   "execution_count": 21,
   "id": "e4c76739",
   "metadata": {},
   "outputs": [
    {
     "data": {
      "text/plain": [
       "True"
      ]
     },
     "execution_count": 21,
     "metadata": {},
     "output_type": "execute_result"
    }
   ],
   "source": [
    "is_in_order(\"123\")"
   ]
  },
  {
   "cell_type": "code",
   "execution_count": 22,
   "id": "5f52ae9a",
   "metadata": {},
   "outputs": [
    {
     "data": {
      "text/plain": [
       "True"
      ]
     },
     "execution_count": 22,
     "metadata": {},
     "output_type": "execute_result"
    }
   ],
   "source": [
    "is_in_order(\"xyzz\")"
   ]
  },
  {
   "cell_type": "code",
   "execution_count": null,
   "id": "0ed49163",
   "metadata": {},
   "outputs": [],
   "source": []
  }
 ],
 "metadata": {
  "kernelspec": {
   "display_name": "Python 3",
   "language": "python",
   "name": "python3"
  },
  "language_info": {
   "codemirror_mode": {
    "name": "ipython",
    "version": 3
   },
   "file_extension": ".py",
   "mimetype": "text/x-python",
   "name": "python",
   "nbconvert_exporter": "python",
   "pygments_lexer": "ipython3",
   "version": "3.8.8"
  }
 },
 "nbformat": 4,
 "nbformat_minor": 5
}
