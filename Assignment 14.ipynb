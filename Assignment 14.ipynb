{
 "cells": [
  {
   "cell_type": "markdown",
   "id": "6f606a08",
   "metadata": {},
   "source": [
    "Question 1:Define a class with a generator which can iterate the numbers, which are divisible by 7, between a given range 0 and n."
   ]
  },
  {
   "cell_type": "code",
   "execution_count": 1,
   "id": "e0775770",
   "metadata": {},
   "outputs": [],
   "source": [
    "class itrate:\n",
    "    def __init__(self,n):\n",
    "        self.n  = n\n",
    "    \n",
    "    def divisible(self):\n",
    "        for i in range(0, self.n):\n",
    "            if i%7==0 and i>0:\n",
    "                print(i)"
   ]
  },
  {
   "cell_type": "code",
   "execution_count": 2,
   "id": "75af3732",
   "metadata": {},
   "outputs": [
    {
     "name": "stdout",
     "output_type": "stream",
     "text": [
      "7\n",
      "14\n",
      "21\n",
      "28\n",
      "35\n",
      "42\n",
      "49\n",
      "56\n",
      "63\n",
      "70\n",
      "77\n",
      "84\n",
      "91\n",
      "98\n"
     ]
    }
   ],
   "source": [
    "a=itrate(100)\n",
    "a.divisible()"
   ]
  },
  {
   "cell_type": "markdown",
   "id": "16b449a8",
   "metadata": {},
   "source": [
    "Question 2: Write a program to compute the frequency of the words from the input. The outputshould output after sorting the key alphanumerically.\n",
    "Suppose the following input is supplied to the program:\n",
    "New to Python or choosing between Python 2 and Python 3? Read Python 2 or\n",
    "Python 3.\n",
    "Then, the output should be:\n",
    "2:2\n",
    "3.:1\n",
    "3?:1\n",
    "New:1\n",
    "Python:5\n",
    "Read:1\n",
    "and:1\n",
    "between:1\n",
    "choosing:1\n",
    "or:2\n",
    "to:1"
   ]
  },
  {
   "cell_type": "code",
   "execution_count": 3,
   "id": "63e829d6",
   "metadata": {},
   "outputs": [
    {
     "name": "stdout",
     "output_type": "stream",
     "text": [
      "Enter the string: New to Python or choosing between Python 2 and Python 3? Read Python 2 or Python 3\n",
      "2:2\n",
      "3:1\n",
      "3?:1\n",
      "New:1\n",
      "Python:5\n",
      "Read:1\n",
      "and:1\n",
      "between:1\n",
      "choosing:1\n",
      "or:2\n",
      "to:1\n"
     ]
    }
   ],
   "source": [
    "input_string = str(input(\"Enter the string: \")).split()\n",
    "frequency_check = sorted(set(input_string))\n",
    "\n",
    "for i in frequency_check:\n",
    "    print(\"{}:{}\".format(i,input_string.count(i)))\n",
    "    "
   ]
  },
  {
   "cell_type": "markdown",
   "id": "9f62dea4",
   "metadata": {},
   "source": [
    "Question 3: Define a class Person and its two child classes: Male and Female. All classes have a method \"getGender\" which can print \"Male\" for Male class and \"Female\" for Female class."
   ]
  },
  {
   "cell_type": "code",
   "execution_count": 4,
   "id": "75338487",
   "metadata": {},
   "outputs": [
    {
     "name": "stdout",
     "output_type": "stream",
     "text": [
      "male\n",
      "female\n"
     ]
    }
   ],
   "source": [
    "class person:\n",
    "    def getgender(self):\n",
    "        pass\n",
    "\n",
    "class male(person):\n",
    "    def getgender(self):\n",
    "        return \"male\"\n",
    "\n",
    "class female(person):\n",
    "    def getgender(self):\n",
    "        return \"female\"\n",
    "    \n",
    "m = male()\n",
    "print(m.getgender())\n",
    "f = female()\n",
    "print(f.getgender())"
   ]
  },
  {
   "cell_type": "markdown",
   "id": "d879f674",
   "metadata": {},
   "source": [
    "Question 4: Please write a program to generate all sentences where subject is in [\"I\", \"You\"] and verb is in [\"Play\", \"Love\"] and the object is in [\"Hockey\",\"Football\"]."
   ]
  },
  {
   "cell_type": "code",
   "execution_count": 5,
   "id": "4f64e741",
   "metadata": {},
   "outputs": [
    {
     "name": "stdout",
     "output_type": "stream",
     "text": [
      "I Play Hockey\n",
      "I Play Football\n",
      "I Love Hockey\n",
      "I Love Football\n",
      "You Play Hockey\n",
      "You Play Football\n",
      "You Love Hockey\n",
      "You Love Football\n"
     ]
    }
   ],
   "source": [
    "subject = [\"I\", \"You\"]\n",
    "verb = [\"Play\", \"Love\"]\n",
    "objects = [\"Hockey\",\"Football\"]\n",
    "\n",
    "for i in subject:\n",
    "    for j in verb:\n",
    "        for k in objects:\n",
    "            print(\"{} {} {}\".format(i,j,k))"
   ]
  },
  {
   "cell_type": "markdown",
   "id": "e7de9741",
   "metadata": {},
   "source": [
    "Please write a program to compress and decompress the string \"hello world!hello world!hello world!hello world!\"."
   ]
  },
  {
   "cell_type": "code",
   "execution_count": null,
   "id": "2870a501",
   "metadata": {},
   "outputs": [],
   "source": [
    "import zlib\n",
    "string = 'hello world!hello world!hello world!hello world!'.encode()\n",
    "com = zlib.compress(s)\n",
    "print(t)\n",
    "print(zlib.decompress(t))"
   ]
  },
  {
   "cell_type": "markdown",
   "id": "01059119",
   "metadata": {},
   "source": [
    "Please write a binary search function which searches an item in a sorted list. The function should return the index of element to be searched in the list."
   ]
  },
  {
   "cell_type": "code",
   "execution_count": 1,
   "id": "112394bc",
   "metadata": {},
   "outputs": [],
   "source": [
    "def binary_search(l,n):\n",
    "    low = 0\n",
    "    high = len(l)-1\n",
    "\n",
    "    \n",
    "    while low<=high:\n",
    "        mid = (low+high)//2\n",
    "        \n",
    "        if l[mid]<n:\n",
    "            low = mid+1\n",
    "        elif l[mid]>n:\n",
    "            high = mid-1\n",
    "        else:\n",
    "            return mid\n",
    "    return \"element not in list\"\n",
    "            "
   ]
  },
  {
   "cell_type": "code",
   "execution_count": 2,
   "id": "3114bfa3",
   "metadata": {},
   "outputs": [
    {
     "name": "stdout",
     "output_type": "stream",
     "text": [
      "[2, 4, 12, 21, 31]\n"
     ]
    },
    {
     "data": {
      "text/plain": [
       "0"
      ]
     },
     "execution_count": 2,
     "metadata": {},
     "output_type": "execute_result"
    }
   ],
   "source": [
    "l = [12,4,2,31,21]\n",
    "l.sort()\n",
    "print(l)\n",
    "binary_search(l,2)"
   ]
  },
  {
   "cell_type": "code",
   "execution_count": 3,
   "id": "670474c3",
   "metadata": {},
   "outputs": [
    {
     "data": {
      "text/plain": [
       "'element not in list'"
      ]
     },
     "execution_count": 3,
     "metadata": {},
     "output_type": "execute_result"
    }
   ],
   "source": [
    "binary_search(l,5)"
   ]
  },
  {
   "cell_type": "code",
   "execution_count": null,
   "id": "33cae217",
   "metadata": {},
   "outputs": [],
   "source": []
  }
 ],
 "metadata": {
  "kernelspec": {
   "display_name": "Python 3",
   "language": "python",
   "name": "python3"
  },
  "language_info": {
   "codemirror_mode": {
    "name": "ipython",
    "version": 3
   },
   "file_extension": ".py",
   "mimetype": "text/x-python",
   "name": "python",
   "nbconvert_exporter": "python",
   "pygments_lexer": "ipython3",
   "version": "3.8.8"
  }
 },
 "nbformat": 4,
 "nbformat_minor": 5
}
